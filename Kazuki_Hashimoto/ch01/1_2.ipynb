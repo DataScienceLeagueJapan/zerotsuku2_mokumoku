{
 "cells": [
  {
   "cell_type": "code",
   "execution_count": 1,
   "metadata": {},
   "outputs": [],
   "source": [
    "import numpy as np"
   ]
  },
  {
   "cell_type": "code",
   "execution_count": 5,
   "metadata": {},
   "outputs": [
    {
     "data": {
      "text/plain": [
       "array([[-0.42224687,  1.56704122,  0.66022595,  0.92697875],\n",
       "       [ 0.17979723,  0.09683821,  1.4923507 ,  2.03322544],\n",
       "       [-1.5773719 ,  4.01736914, -0.86925297, -0.38698367],\n",
       "       [-0.29831403,  0.68250044,  0.93689675,  2.42457147],\n",
       "       [-0.72130921,  1.5351765 ,  0.38489524,  2.04076273],\n",
       "       [-1.11489735,  2.61334703, -0.18030009,  1.06217599],\n",
       "       [-1.90576238,  3.96890529, -1.16914448,  0.8654306 ],\n",
       "       [-0.04808098,  0.24574463,  1.25119312,  2.50395672],\n",
       "       [ 0.28775394,  0.26290618,  1.56375048,  1.29385949],\n",
       "       [-1.44648513,  3.95191766, -0.73437449, -0.70117045]])"
      ]
     },
     "execution_count": 5,
     "metadata": {},
     "output_type": "execute_result"
    }
   ],
   "source": [
    "W1 = np.random.randn(2, 4)\n",
    "b1 = np.random.randn(4)\n",
    "x = np.random.randn(10, 2)\n",
    "h = np.dot(x, W1) + b1\n",
    "h"
   ]
  },
  {
   "cell_type": "code",
   "execution_count": 6,
   "metadata": {},
   "outputs": [],
   "source": [
    "# シグモイド関数\n",
    "def sigmoid(x):\n",
    "    return 1 / (1 + np.exp(-x))"
   ]
  },
  {
   "cell_type": "code",
   "execution_count": 8,
   "metadata": {},
   "outputs": [
    {
     "data": {
      "text/plain": [
       "array([[0.39597922, 0.8273614 , 0.65931114, 0.71646194],\n",
       "       [0.54482861, 0.52419065, 0.81643084, 0.88424164],\n",
       "       [0.17116801, 0.98231802, 0.29540977, 0.40444363],\n",
       "       [0.42596968, 0.66429654, 0.71847239, 0.91868191],\n",
       "       [0.32710475, 0.82276244, 0.59505323, 0.88501091],\n",
       "       [0.246959  , 0.93171565, 0.45504669, 0.74310616],\n",
       "       [0.12945768, 0.98145626, 0.23700966, 0.70379401],\n",
       "       [0.48798207, 0.56112883, 0.77750633, 0.92441874],\n",
       "       [0.57144617, 0.56535056, 0.82689086, 0.78479973],\n",
       "       [0.1905431 , 0.98114455, 0.32423551, 0.33155277]])"
      ]
     },
     "execution_count": 8,
     "metadata": {},
     "output_type": "execute_result"
    }
   ],
   "source": [
    "a = sigmoid(h)\n",
    "a"
   ]
  },
  {
   "cell_type": "code",
   "execution_count": 9,
   "metadata": {},
   "outputs": [
    {
     "data": {
      "text/plain": [
       "array([[ 1.46433935,  0.55250197,  2.14292176],\n",
       "       [ 1.4790805 ,  0.73265727,  2.30799036],\n",
       "       [ 1.08697998,  0.15518054,  1.80538651],\n",
       "       [ 1.44399156,  0.57354686,  2.10386177],\n",
       "       [ 1.38963603,  0.37988667,  1.89226014],\n",
       "       [ 1.27698162,  0.21860859,  1.76017448],\n",
       "       [ 1.03667621, -0.11383077,  1.41217177],\n",
       "       [ 1.45309174,  0.66794416,  2.21490991],\n",
       "       [ 1.51513862,  0.7782531 ,  2.39378846],\n",
       "       [ 1.11664576,  0.24270748,  1.92529607]])"
      ]
     },
     "execution_count": 9,
     "metadata": {},
     "output_type": "execute_result"
    }
   ],
   "source": [
    "W2 = np.random.randn(4, 3)\n",
    "b2 = np.random.randn(3)\n",
    "\n",
    "s = np.dot(a, W2) + b2\n",
    "s"
   ]
  },
  {
   "attachments": {},
   "cell_type": "markdown",
   "metadata": {},
   "source": [
    "レイヤの実装"
   ]
  },
  {
   "cell_type": "code",
   "execution_count": 10,
   "metadata": {},
   "outputs": [],
   "source": [
    "# Sigmoid レイヤ\n",
    "class Sigmoid:\n",
    "    def __init__(self):\n",
    "        self.params = []\n",
    "    \n",
    "    def forward(self, x):\n",
    "        return 1 / (1 + np.exp(-x))"
   ]
  },
  {
   "cell_type": "code",
   "execution_count": 11,
   "metadata": {},
   "outputs": [],
   "source": [
    "class Affine:\n",
    "    def __init__(self, W ,b):\n",
    "        self.params = [W, b]\n",
    "    \n",
    "    def forward(self, x):\n",
    "        W, b = self.params\n",
    "        out = np.dot(x, W) + b\n",
    "        return out"
   ]
  },
  {
   "cell_type": "code",
   "execution_count": 12,
   "metadata": {},
   "outputs": [],
   "source": [
    "class TwoLayerNet:\n",
    "    def __init__(self, input_size, hidden_size, output_size):\n",
    "        I, H, O = input_size, hidden_size, output_size\n",
    "\n",
    "        # 重みとバイアスの初期化\n",
    "        W1 = np.random.randn(I, H)\n",
    "        b1 = np.random.randn(H)\n",
    "        W2 = np.random.randn(H, O)\n",
    "        b2 = np.random.randn(O)\n",
    "\n",
    "        # レイヤの作成\n",
    "        self.layers = [\n",
    "            Affine(W1, b1),\n",
    "            Sigmoid(),\n",
    "            Affine(W2, b2)\n",
    "        ]\n",
    "\n",
    "        # 全ての重みをリストにまとめる\n",
    "        self.params = []\n",
    "        for layer in self.layers:\n",
    "            self.params += layer.params\n",
    "    \n",
    "    def predict(self, x):\n",
    "        for layer in self.layers:\n",
    "            x = layer.forward(x)\n",
    "        return x"
   ]
  },
  {
   "cell_type": "code",
   "execution_count": 14,
   "metadata": {},
   "outputs": [
    {
     "name": "stdout",
     "output_type": "stream",
     "text": [
      "[[-0.75216228  0.07514337]\n",
      " [ 0.49638474 -1.75063982]\n",
      " [ 0.23425913 -0.6243663 ]\n",
      " [-0.49058151 -1.23916602]\n",
      " [ 0.47941755  1.77618136]\n",
      " [ 0.46555703 -0.33058665]\n",
      " [ 1.29270791 -1.94686817]\n",
      " [-1.0333672   1.42606001]\n",
      " [-0.6400792  -0.06105716]\n",
      " [-0.6127139   1.66002576]]\n",
      "[[-1.91521995  1.39829279  0.39285267]\n",
      " [-1.48628577  1.07983589  0.46590805]\n",
      " [-1.4005733   1.16915906  0.4097734 ]\n",
      " [-1.98471675  1.33635938  0.43897027]\n",
      " [-0.69769257  1.12151623  0.30725504]\n",
      " [-1.12322085  1.11612876  0.38562033]\n",
      " [-0.89076776  0.89586155  0.44825404]\n",
      " [-1.84705016  1.45040984  0.35210819]\n",
      " [-1.88420537  1.37589     0.39845488]\n",
      " [-1.51132759  1.38840601  0.32738786]]\n"
     ]
    }
   ],
   "source": [
    "x = np.random.randn(10, 2)\n",
    "model = TwoLayerNet(2, 4, 3)\n",
    "s = model.predict(x)\n",
    "print(x)\n",
    "print(s)"
   ]
  },
  {
   "cell_type": "code",
   "execution_count": null,
   "metadata": {},
   "outputs": [],
   "source": []
  }
 ],
 "metadata": {
  "kernelspec": {
   "display_name": ".venv",
   "language": "python",
   "name": "python3"
  },
  "language_info": {
   "codemirror_mode": {
    "name": "ipython",
    "version": 3
   },
   "file_extension": ".py",
   "mimetype": "text/x-python",
   "name": "python",
   "nbconvert_exporter": "python",
   "pygments_lexer": "ipython3",
   "version": "3.11.0"
  },
  "orig_nbformat": 4
 },
 "nbformat": 4,
 "nbformat_minor": 2
}
